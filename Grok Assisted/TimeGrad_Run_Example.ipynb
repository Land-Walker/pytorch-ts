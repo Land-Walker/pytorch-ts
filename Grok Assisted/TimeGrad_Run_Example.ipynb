{
 "cells": [
  {
   "cell_type": "markdown",
   "metadata": {},
   "source": [
    "# TimeGrad: Training and Inference on Financial Data\n",
    "\n",
    "This notebook demonstrates how to run the TimeGrad model on S&P500 time-series data. It covers:\n",
    "\n",
    "1.  **Data Fetching**: Downloading S&P500 data using `yfinance`.\n",
    "2.  **Data Preparation**: Normalizing and converting data into a GluonTS-compatible format.\n",
    "3.  **Model Training**: Training the TimeGrad model using a simplified Dataloader.\n",
    "4.  **Inference**: Generating synthetic time-series samples using the trained model.\n",
    "5.  **Visualization**: Comparing the synthetic data with the real data."
   ]
  },
  {
   "cell_type": "code",
   "execution_count": 40,
   "metadata": {},
   "outputs": [],
   "source": [
    "!export PYTHONPATH=$PYTHONPATH:/path/to/src"
   ]
  },
  {
   "cell_type": "code",
   "execution_count": 1,
   "metadata": {},
   "outputs": [
    {
     "name": "stdout",
     "output_type": "stream",
     "text": [
      "PyTorch version: 2.8.0+cu128\n",
      "CUDA available: False\n",
      "Using device: cpu\n",
      "/opt/conda/envs/condatest/lib/python39.zip\n",
      "/opt/conda/envs/condatest/lib/python3.9\n",
      "/opt/conda/envs/condatest/lib/python3.9/lib-dynload\n",
      "\n",
      "/opt/conda/envs/condatest/lib/python3.9/site-packages\n",
      "/workspaces/pytorch-ts/Grok Assisted/src\n"
     ]
    },
    {
     "name": "stderr",
     "output_type": "stream",
     "text": [
      "/opt/conda/envs/condatest/lib/python3.9/site-packages/tqdm/auto.py:21: TqdmWarning: IProgress not found. Please update jupyter and ipywidgets. See https://ipywidgets.readthedocs.io/en/stable/user_install.html\n",
      "  from .autonotebook import tqdm as notebook_tqdm\n"
     ]
    }
   ],
   "source": [
    "import sys\n",
    "import os\n",
    "from typing import List\n",
    "import torch\n",
    "import matplotlib.pyplot as plt\n",
    "import numpy as np\n",
    "import pandas as pd\n",
    "from tqdm.auto import tqdm\n",
    "import warnings\n",
    "warnings.filterwarnings('ignore')\n",
    "\n",
    "'''\n",
    "sys.path.clear()\n",
    "\n",
    "# Add the project root to Python path\n",
    "module_path = os.path.abspath(os.getcwd()) # Assumes notebook is in 'Grok Assisted' directory\n",
    "if module_path not in sys.path:\n",
    "    sys.path.insert(0, module_path)\n",
    "sys.path.append(os.path.abspath(os.path.join(os.path.dirname(module_path), 'src/pts')))\n",
    "'''\n",
    "\n",
    "project_root = '/workspaces/pytorch-ts/Grok Assisted/src'\n",
    "sys.path.append(project_root)\n",
    "\n",
    "# Set style for better plots\n",
    "plt.style.use('seaborn-v0_8')\n",
    "plt.rcParams['figure.figsize'] = (15, 8)\n",
    "\n",
    "print(f\"PyTorch version: {torch.__version__}\")\n",
    "print(f\"CUDA available: {torch.cuda.is_available()}\")\n",
    "device = torch.device('cuda' if torch.cuda.is_available() else 'cpu')\n",
    "print(f\"Using device: {device}\")\n",
    "for p in sys.path:\n",
    "    print(p)"
   ]
  },
  {
   "cell_type": "code",
   "execution_count": 3,
   "metadata": {},
   "outputs": [
    {
     "name": "stdout",
     "output_type": "stream",
     "text": [
      "✓ All imports successful!\n"
     ]
    }
   ],
   "source": [
    "# Import TimeGrad components\n",
    "from src.pts.model.time_grad.time_grad_network import (\n",
    "    TimeGradTrainingNetwork, \n",
    "    TimeGradPredictionNetwork, \n",
    "    TimeGradConfig\n",
    ")\n",
    "from src.pts.model.time_grad.time_grad_estimator import (\n",
    "    TimeGradEstimator, \n",
    "    TimeGradEstimatorConfig\n",
    ")\n",
    "from src.pts.model.time_grad.time_grad_predictor import (\n",
    "    TimeGradPredictor, \n",
    "    TimeGradPredictorFactory\n",
    ")\n",
    "from src.pts.model.time_grad.diffusion import GaussianDiffusion\n",
    "\n",
    "# Import data utilities\n",
    "from data_fetch import (\n",
    "    fetch_sp500_data, \n",
    "    prepare_gluonts_dataset, \n",
    "    DataConfig, \n",
    "    normalize_data, \n",
    "    denormalize_data\n",
    ")\n",
    "\n",
    "print(\"✓ All imports successful!\")"
   ]
  },
  {
   "cell_type": "markdown",
   "metadata": {},
   "source": [
    "## 1. Configuration\n",
    "\n",
    "We define all the configurations for data, network, diffusion, and the estimator in one place."
   ]
  },
  {
   "cell_type": "code",
   "execution_count": 4,
   "metadata": {},
   "outputs": [
    {
     "ename": "NameError",
     "evalue": "name 'data_config' is not defined",
     "output_type": "error",
     "traceback": [
      "\u001b[0;31m---------------------------------------------------------------------------\u001b[0m",
      "\u001b[0;31mNameError\u001b[0m                                 Traceback (most recent call last)",
      "Cell \u001b[0;32mIn[4], line 6\u001b[0m\n\u001b[1;32m      1\u001b[0m \u001b[38;5;66;03m# Configure TimeGrad model\u001b[39;00m\n\u001b[1;32m      2\u001b[0m estimator_config \u001b[38;5;241m=\u001b[39m TimeGradEstimatorConfig(\n\u001b[1;32m      3\u001b[0m     \u001b[38;5;66;03m# Data parameters\u001b[39;00m\n\u001b[1;32m      4\u001b[0m     input_size\u001b[38;5;241m=\u001b[39m\u001b[38;5;241m8\u001b[39m,  \u001b[38;5;66;03m# lags + embeddings + time features\u001b[39;00m\n\u001b[1;32m      5\u001b[0m     freq\u001b[38;5;241m=\u001b[39m\u001b[38;5;124m'\u001b[39m\u001b[38;5;124mD\u001b[39m\u001b[38;5;124m'\u001b[39m,\n\u001b[0;32m----> 6\u001b[0m     prediction_length\u001b[38;5;241m=\u001b[39m\u001b[43mdata_config\u001b[49m\u001b[38;5;241m.\u001b[39mprediction_length,\n\u001b[1;32m      7\u001b[0m     target_dim\u001b[38;5;241m=\u001b[39m\u001b[38;5;241m1\u001b[39m,\n\u001b[1;32m      8\u001b[0m     context_length\u001b[38;5;241m=\u001b[39mdata_config\u001b[38;5;241m.\u001b[39mcontext_length,\n\u001b[1;32m      9\u001b[0m     \n\u001b[1;32m     10\u001b[0m     \u001b[38;5;66;03m# Network architecture\u001b[39;00m\n\u001b[1;32m     11\u001b[0m     num_layers\u001b[38;5;241m=\u001b[39m\u001b[38;5;241m2\u001b[39m,\n\u001b[1;32m     12\u001b[0m     num_cells\u001b[38;5;241m=\u001b[39m\u001b[38;5;241m64\u001b[39m,\n\u001b[1;32m     13\u001b[0m     cell_type\u001b[38;5;241m=\u001b[39m\u001b[38;5;124m'\u001b[39m\u001b[38;5;124mLSTM\u001b[39m\u001b[38;5;124m'\u001b[39m,\n\u001b[1;32m     14\u001b[0m     conditioning_length\u001b[38;5;241m=\u001b[39m\u001b[38;5;241m64\u001b[39m,\n\u001b[1;32m     15\u001b[0m     \n\u001b[1;32m     16\u001b[0m     \u001b[38;5;66;03m# Diffusion parameters\u001b[39;00m\n\u001b[1;32m     17\u001b[0m     diff_steps\u001b[38;5;241m=\u001b[39m\u001b[38;5;241m50\u001b[39m,  \u001b[38;5;66;03m# Reduced for faster training\u001b[39;00m\n\u001b[1;32m     18\u001b[0m     loss_type\u001b[38;5;241m=\u001b[39m\u001b[38;5;124m'\u001b[39m\u001b[38;5;124ml2\u001b[39m\u001b[38;5;124m'\u001b[39m,\n\u001b[1;32m     19\u001b[0m     beta_end\u001b[38;5;241m=\u001b[39m\u001b[38;5;241m0.1\u001b[39m,\n\u001b[1;32m     20\u001b[0m     beta_schedule\u001b[38;5;241m=\u001b[39m\u001b[38;5;124m'\u001b[39m\u001b[38;5;124mcosine\u001b[39m\u001b[38;5;124m'\u001b[39m,\n\u001b[1;32m     21\u001b[0m     \n\u001b[1;32m     22\u001b[0m     \u001b[38;5;66;03m# Epsilon-Theta network parameters\u001b[39;00m\n\u001b[1;32m     23\u001b[0m     residual_layers\u001b[38;5;241m=\u001b[39m\u001b[38;5;241m4\u001b[39m,\n\u001b[1;32m     24\u001b[0m     residual_channels\u001b[38;5;241m=\u001b[39m\u001b[38;5;241m16\u001b[39m,\n\u001b[1;32m     25\u001b[0m     dilation_cycle_length\u001b[38;5;241m=\u001b[39m\u001b[38;5;241m2\u001b[39m,\n\u001b[1;32m     26\u001b[0m     \n\u001b[1;32m     27\u001b[0m     \u001b[38;5;66;03m# Training parameters\u001b[39;00m\n\u001b[1;32m     28\u001b[0m     batch_size\u001b[38;5;241m=\u001b[39m\u001b[38;5;241m8\u001b[39m,\n\u001b[1;32m     29\u001b[0m     epochs\u001b[38;5;241m=\u001b[39m\u001b[38;5;241m10\u001b[39m,\n\u001b[1;32m     30\u001b[0m     learning_rate\u001b[38;5;241m=\u001b[39m\u001b[38;5;241m1e-3\u001b[39m,\n\u001b[1;32m     31\u001b[0m     dropout_rate\u001b[38;5;241m=\u001b[39m\u001b[38;5;241m0.1\u001b[39m,\n\u001b[1;32m     32\u001b[0m     scaling\u001b[38;5;241m=\u001b[39m\u001b[38;5;28;01mTrue\u001b[39;00m,\n\u001b[1;32m     33\u001b[0m )\n\u001b[1;32m     35\u001b[0m \u001b[38;5;28mprint\u001b[39m(\u001b[38;5;124m\"\u001b[39m\u001b[38;5;124m🔧 TimeGrad Configuration:\u001b[39m\u001b[38;5;124m\"\u001b[39m)\n\u001b[1;32m     36\u001b[0m \u001b[38;5;28mprint\u001b[39m(\u001b[38;5;124mf\u001b[39m\u001b[38;5;124m\"\u001b[39m\u001b[38;5;124m  • Prediction length: \u001b[39m\u001b[38;5;132;01m{\u001b[39;00mestimator_config\u001b[38;5;241m.\u001b[39mprediction_length\u001b[38;5;132;01m}\u001b[39;00m\u001b[38;5;124m\"\u001b[39m)\n",
      "\u001b[0;31mNameError\u001b[0m: name 'data_config' is not defined"
     ]
    }
   ],
   "source": [
    "# Configure TimeGrad model\n",
    "estimator_config = TimeGradEstimatorConfig(\n",
    "    # Data parameters\n",
    "    input_size=8,  # lags + embeddings + time features\n",
    "    freq='D',\n",
    "    prediction_length=data_config.prediction_length,\n",
    "    target_dim=1,\n",
    "    context_length=data_config.context_length,\n",
    "    \n",
    "    # Network architecture\n",
    "    num_layers=2,\n",
    "    num_cells=64,\n",
    "    cell_type='LSTM',\n",
    "    conditioning_length=64,\n",
    "    \n",
    "    # Diffusion parameters\n",
    "    diff_steps=50,  # Reduced for faster training\n",
    "    loss_type='l2',\n",
    "    beta_end=0.1,\n",
    "    beta_schedule='cosine',\n",
    "    \n",
    "    # Epsilon-Theta network parameters\n",
    "    residual_layers=4,\n",
    "    residual_channels=16,\n",
    "    dilation_cycle_length=2,\n",
    "    \n",
    "    # Training parameters\n",
    "    batch_size=8,\n",
    "    epochs=10,\n",
    "    learning_rate=1e-3,\n",
    "    dropout_rate=0.1,\n",
    "    scaling=True,\n",
    ")\n",
    "\n",
    "print(\"🔧 TimeGrad Configuration:\")\n",
    "print(f\"  • Prediction length: {estimator_config.prediction_length}\")\n",
    "print(f\"  • Context length: {estimator_config.context_length}\")\n",
    "print(f\"  • Diffusion steps: {estimator_config.diff_steps}\")\n",
    "print(f\"  • Network cells: {estimator_config.num_cells}\")\n",
    "print(f\"  • Batch size: {estimator_config.batch_size}\")\n",
    "print(f\"  • Training epochs: {estimator_config.epochs}\")"
   ]
  },
  {
   "cell_type": "markdown",
   "metadata": {},
   "source": [
    "## 2. Data Fetching and Preparation\n",
    "\n",
    "We fetch the S&P 500 data, normalize it, and prepare it as a GluonTS dataset."
   ]
  },
  {
   "cell_type": "code",
   "execution_count": null,
   "metadata": {},
   "outputs": [
    {
     "name": "stdout",
     "output_type": "stream",
     "text": [
      "Fetching data...\n"
     ]
    },
    {
     "name": "stderr",
     "output_type": "stream",
     "text": [
      "[*********************100%***********************]  1 of 1 completed"
     ]
    },
    {
     "name": "stdout",
     "output_type": "stream",
     "text": [
      "Fetched 14615 data points\n",
      "Data normalized - Mean: 79846.54, Std: 21814.89\n",
      "Dataset prepared successfully\n"
     ]
    },
    {
     "name": "stderr",
     "output_type": "stream",
     "text": [
      "\n"
     ]
    }
   ],
   "source": [
    "# Configure data parameters\n",
    "data_config = DataConfig(\n",
    "    start_date='2020-01-01', \n",
    "    end_date='2024-01-01',\n",
    "    interval='1d',\n",
    "    context_length=30, \n",
    "    prediction_length=10\n",
    ")\n",
    "\n",
    "print(\"Fetching S&P500 data...\")\n",
    "df = fetch_sp500_data(data_config)\n",
    "print(f\"✓ Fetched {len(df)} data points from {df.index[0]} to {df.index[-1]}\")\n",
    "\n",
    "# Display basic statistics\n",
    "print(\"\\n📊 Data Statistics:\")\n",
    "print(df.describe())"
   ]
  },
  {
   "cell_type": "code",
   "execution_count": null,
   "metadata": {},
   "outputs": [],
   "source": [
    "# Visualize raw data\n",
    "plt.figure(figsize=(15, 6))\n",
    "plt.plot(df.index, df['close'], linewidth=1.5, alpha=0.8)\n",
    "plt.title('S&P500 Historical Prices', fontsize=16, fontweight='bold')\n",
    "plt.xlabel('Date', fontsize=12)\n",
    "plt.ylabel('Price ($)', fontsize=12)\n",
    "plt.grid(True, alpha=0.3)\n",
    "plt.tight_layout()\n",
    "plt.show()\n",
    "\n",
    "# Show recent trend\n",
    "plt.figure(figsize=(15, 6))\n",
    "recent_data = df.tail(200)\n",
    "plt.plot(recent_data.index, recent_data['close'], linewidth=2)\n",
    "plt.title('S&P500 Recent 200 Days', fontsize=16, fontweight='bold')\n",
    "plt.xlabel('Date', fontsize=12)\n",
    "plt.ylabel('Price ($)', fontsize=12)\n",
    "plt.grid(True, alpha=0.3)\n",
    "plt.tight_layout()\n",
    "plt.show()"
   ]
  },
  {
   "cell_type": "code",
   "execution_count": null,
   "metadata": {},
   "outputs": [],
   "source": [
    "# Normalize data for training\n",
    "df_normalized, data_mean, data_std = normalize_data(df)\n",
    "print(f\"✓ Data normalized - Mean: {data_mean:.2f}, Std: {data_std:.2f}\")\n",
    "\n",
    "# Create GluonTS dataset\n",
    "dataset = prepare_gluonts_dataset(df_normalized, data_config)\n",
    "train_data = list(dataset)\n",
    "print(f\"✓ Dataset created with {len(train_data)} series\")\n",
    "\n",
    "# Visualize normalized data\n",
    "plt.figure(figsize=(15, 6))\n",
    "plt.plot(df_normalized.index, df_normalized['close'], linewidth=1.5, alpha=0.8, color='green')\n",
    "plt.title('S&P500 Normalized Prices', fontsize=16, fontweight='bold')\n",
    "plt.xlabel('Date', fontsize=12)\n",
    "plt.ylabel('Normalized Price', fontsize=12)\n",
    "plt.axhline(y=0, color='red', linestyle='--', alpha=0.5)\n",
    "plt.grid(True, alpha=0.3)\n",
    "plt.tight_layout()\n",
    "plt.show()"
   ]
  },
  {
   "cell_type": "markdown",
   "metadata": {},
   "source": [
    "## 5. Training\n",
    "\n",
    "Now, we train the model. The progress bar will show the status for each epoch."
   ]
  },
  {
   "cell_type": "code",
   "execution_count": null,
   "metadata": {},
   "outputs": [
    {
     "name": "stdout",
     "output_type": "stream",
     "text": [
      "Starting training...\n"
     ]
    },
    {
     "name": "stderr",
     "output_type": "stream",
     "text": [
      "100%|██████████| 14568/14568 [00:34<00:00, 427.70it/s]\n"
     ]
    },
    {
     "name": "stdout",
     "output_type": "stream",
     "text": [
      "Epoch 0 loss: 0.9787172583524569\n"
     ]
    },
    {
     "name": "stderr",
     "output_type": "stream",
     "text": [
      "100%|██████████| 14568/14568 [00:34<00:00, 416.66it/s]\n"
     ]
    },
    {
     "name": "stdout",
     "output_type": "stream",
     "text": [
      "Epoch 1 loss: 0.9746596159977058\n"
     ]
    },
    {
     "name": "stderr",
     "output_type": "stream",
     "text": [
      "100%|██████████| 14568/14568 [00:34<00:00, 422.55it/s]\n"
     ]
    },
    {
     "name": "stdout",
     "output_type": "stream",
     "text": [
      "Epoch 2 loss: 0.9779788890555869\n"
     ]
    },
    {
     "name": "stderr",
     "output_type": "stream",
     "text": [
      "100%|██████████| 14568/14568 [00:34<00:00, 425.69it/s]\n"
     ]
    },
    {
     "name": "stdout",
     "output_type": "stream",
     "text": [
      "Epoch 3 loss: 0.9990571032931341\n"
     ]
    },
    {
     "name": "stderr",
     "output_type": "stream",
     "text": [
      "100%|██████████| 14568/14568 [00:31<00:00, 460.93it/s]\n"
     ]
    },
    {
     "name": "stdout",
     "output_type": "stream",
     "text": [
      "Epoch 4 loss: 1.0017036460094535\n"
     ]
    },
    {
     "name": "stderr",
     "output_type": "stream",
     "text": [
      "100%|██████████| 14568/14568 [00:32<00:00, 449.92it/s]\n"
     ]
    },
    {
     "name": "stdout",
     "output_type": "stream",
     "text": [
      "Epoch 5 loss: 1.0016319290844786\n"
     ]
    },
    {
     "name": "stderr",
     "output_type": "stream",
     "text": [
      "100%|██████████| 14568/14568 [00:38<00:00, 376.75it/s]\n"
     ]
    },
    {
     "name": "stdout",
     "output_type": "stream",
     "text": [
      "Epoch 6 loss: 0.9984059454254368\n"
     ]
    },
    {
     "name": "stderr",
     "output_type": "stream",
     "text": [
      "100%|██████████| 14568/14568 [00:39<00:00, 371.36it/s]\n"
     ]
    },
    {
     "name": "stdout",
     "output_type": "stream",
     "text": [
      "Epoch 7 loss: 1.0014833753262655\n"
     ]
    },
    {
     "name": "stderr",
     "output_type": "stream",
     "text": [
      "100%|██████████| 14568/14568 [00:43<00:00, 335.83it/s]\n"
     ]
    },
    {
     "name": "stdout",
     "output_type": "stream",
     "text": [
      "Epoch 8 loss: 0.998265446104899\n"
     ]
    },
    {
     "name": "stderr",
     "output_type": "stream",
     "text": [
      "100%|██████████| 14568/14568 [00:42<00:00, 343.89it/s]"
     ]
    },
    {
     "name": "stdout",
     "output_type": "stream",
     "text": [
      "Epoch 9 loss: 0.9998590647212788\n",
      "Training completed. Final loss: 0.9999\n"
     ]
    },
    {
     "name": "stderr",
     "output_type": "stream",
     "text": [
      "\n"
     ]
    }
   ],
   "source": [
    "class SimpleTrainer:\n",
    "    \"\"\"Simple trainer for TimeGrad without full GluonTS dependency.\"\"\"\n",
    "    \n",
    "    def __init__(self, epochs: int = 10, learning_rate: float = 1e-3):\n",
    "        self.epochs = epochs\n",
    "        self.learning_rate = learning_rate\n",
    "    \n",
    "    def train(self, network: TimeGradTrainingNetwork, dataloader, device: torch.device):\n",
    "        \"\"\"Train the TimeGrad network with progress tracking.\"\"\"\n",
    "        network.train()\n",
    "        optimizer = torch.optim.Adam(network.parameters(), lr=self.learning_rate)\n",
    "        \n",
    "        losses = []\n",
    "        progress_bar = tqdm(range(self.epochs), desc=\"Training TimeGrad\")\n",
    "        \n",
    "        for epoch in progress_bar:\n",
    "            epoch_loss = 0\n",
    "            batch_count = 0\n",
    "            \n",
    "            for batch in dataloader:\n",
    "                try:\n",
    "                    # Extract and move batch data to device\n",
    "                    batch_data = {k: v.to(device) for k, v in batch.items()}\n",
    "                    \n",
    "                    # Forward pass\n",
    "                    loss, likelihoods, distr_args = network(\n",
    "                        target_dimension_indicator=batch_data['target_dimension_indicator'],\n",
    "                        past_time_feat=batch_data['past_time_feat'],\n",
    "                        past_target_cdf=batch_data['past_target_cdf'],\n",
    "                        past_observed_values=batch_data['past_observed_values'],\n",
    "                        past_is_pad=batch_data['past_is_pad'],\n",
    "                        future_time_feat=batch_data['future_time_feat'],\n",
    "                        future_target_cdf=batch_data['future_target_cdf'],\n",
    "                        future_observed_values=batch_data['future_observed_values'],\n",
    "                    )\n",
    "                    \n",
    "                    # Backward pass\n",
    "                    optimizer.zero_grad()\n",
    "                    loss.backward()\n",
    "                    torch.nn.utils.clip_grad_norm_(network.parameters(), max_norm=1.0)\n",
    "                    optimizer.step()\n",
    "                    \n",
    "                    epoch_loss += loss.item()\n",
    "                    batch_count += 1\n",
    "                    \n",
    "                except Exception as e:\n",
    "                    print(f\"⚠️ Batch failed: {e}\")\n",
    "                    continue\n",
    "            \n",
    "            avg_loss = epoch_loss / max(batch_count, 1)\n",
    "            losses.append(avg_loss)\n",
    "            progress_bar.set_postfix({'Loss': f'{avg_loss:.4f}'})\n",
    "        \n",
    "        return losses\n",
    "\n",
    "\n",
    "class TimeGradDataLoader:\n",
    "    \"\"\"Simple dataloader for TimeGrad training with progress tracking.\"\"\"\n",
    "    \n",
    "    def __init__(self, data, config: TimeGradEstimatorConfig, batch_size: int = 8):\n",
    "        self.data = data\n",
    "        self.config = config\n",
    "        self.batch_size = batch_size\n",
    "        self.target_dim = config.target_dim\n",
    "        \n",
    "    def __iter__(self):\n",
    "        \"\"\"Generate batches for training.\"\"\"\n",
    "        for item in tqdm(self.data, desc=\"Processing data\", leave=False):\n",
    "            target_data = item['target']\n",
    "            \n",
    "            # Create sliding windows\n",
    "            total_length = len(target_data)\n",
    "            context_length = self.config.context_length or self.config.prediction_length\n",
    "            history_length = context_length + max([1, 2, 3, 4, 5, 6, 7])  # Default lags\n",
    "            \n",
    "            if total_length < history_length + self.config.prediction_length:\n",
    "                continue\n",
    "            \n",
    "            # Create multiple samples from this series\n",
    "            samples = []\n",
    "            max_start = total_length - history_length - self.config.prediction_length\n",
    "            \n",
    "            for start_idx in range(0, max_start, max(1, max_start // 20)):  # More samples\n",
    "                # Extract past data\n",
    "                past_end = start_idx + history_length\n",
    "                past_target = target_data[start_idx:past_end]\n",
    "                \n",
    "                # Extract future data\n",
    "                future_start = past_end\n",
    "                future_end = future_start + self.config.prediction_length\n",
    "                future_target = target_data[future_start:future_end]\n",
    "                \n",
    "                # Create batch item\n",
    "                batch_item = {\n",
    "                    'target_dimension_indicator': torch.arange(self.target_dim).unsqueeze(0),\n",
    "                    'past_time_feat': torch.zeros(1, history_length, 1),\n",
    "                    'past_target_cdf': torch.tensor(past_target.reshape(1, -1, 1), dtype=torch.float32),\n",
    "                    'past_observed_values': torch.ones(1, history_length, 1),\n",
    "                    'past_is_pad': torch.zeros(1, history_length),\n",
    "                    'future_time_feat': torch.zeros(1, self.config.prediction_length, 1),\n",
    "                    'future_target_cdf': torch.tensor(future_target.reshape(1, -1, 1), dtype=torch.float32),\n",
    "                    'future_observed_values': torch.ones(1, self.config.prediction_length, 1),\n",
    "                }\n",
    "                \n",
    "                samples.append(batch_item)\n",
    "                \n",
    "                if len(samples) >= self.batch_size:\n",
    "                    yield self._collate_batch(samples)\n",
    "                    samples = []\n",
    "            \n",
    "            # Yield remaining samples\n",
    "            if samples:\n",
    "                yield self._collate_batch(samples)\n",
    "    \n",
    "    def _collate_batch(self, samples):\n",
    "        \"\"\"Collate samples into a batch.\"\"\"\n",
    "        batch = {}\n",
    "        for key in samples[0].keys():\n",
    "            batch[key] = torch.cat([sample[key] for sample in samples], dim=0)\n",
    "        return batch"
   ]
  },
  {
   "cell_type": "code",
   "execution_count": null,
   "metadata": {},
   "outputs": [],
   "source": [
    "# Create dataloader\n",
    "print(\"🔄 Creating DataLoader...\")\n",
    "dataloader = TimeGradDataLoader(train_data, estimator_config, batch_size=estimator_config.batch_size)\n",
    "print(\"✓ DataLoader created\")\n",
    "\n",
    "# Initialize TimeGrad components\n",
    "print(\"🚀 Initializing TimeGrad components...\")\n",
    "estimator = TimeGradEstimator(estimator_config)\n",
    "training_network = estimator.create_training_network(device)\n",
    "\n",
    "print(f\"✓ Training network created on {device}\")\n",
    "print(f\"  • Total parameters: {sum(p.numel() for p in training_network.parameters()):,}\")\n",
    "print(f\"  • Trainable parameters: {sum(p.numel() for p in training_network.parameters() if p.requires_grad):,}\")"
   ]
  },
  {
   "cell_type": "code",
   "execution_count": null,
   "metadata": {},
   "outputs": [],
   "source": [
    "# Start training\n",
    "print(\"\\n🎯 Starting TimeGrad Training...\")\n",
    "trainer = SimpleTrainer(epochs=estimator_config.epochs, learning_rate=estimator_config.learning_rate)\n",
    "\n",
    "# Train the model\n",
    "losses = trainer.train(training_network, dataloader, device)\n",
    "print(f\"\\n✅ Training completed! Final loss: {losses[-1]:.4f}\")"
   ]
  },
  {
   "cell_type": "code",
   "execution_count": null,
   "metadata": {},
   "outputs": [],
   "source": [
    "# Plot training progress\n",
    "plt.figure(figsize=(12, 5))\n",
    "\n",
    "plt.subplot(1, 2, 1)\n",
    "plt.plot(losses, linewidth=2, color='blue')\n",
    "plt.title('Training Loss Progress', fontsize=14, fontweight='bold')\n",
    "plt.xlabel('Epoch', fontsize=12)\n",
    "plt.ylabel('Loss', fontsize=12)\n",
    "plt.grid(True, alpha=0.3)\n",
    "\n",
    "plt.subplot(1, 2, 2)\n",
    "plt.semilogy(losses, linewidth=2, color='red')\n",
    "plt.title('Training Loss Progress (Log Scale)', fontsize=14, fontweight='bold')\n",
    "plt.xlabel('Epoch', fontsize=12)\n",
    "plt.ylabel('Log Loss', fontsize=12)\n",
    "plt.grid(True, alpha=0.3)\n",
    "\n",
    "plt.tight_layout()\n",
    "plt.show()\n",
    "\n",
    "print(f\"📉 Loss reduction: {losses[0]:.4f} → {losses[-1]:.4f} ({((losses[-1]-losses[0])/losses[0]*100):+.1f}%)\")"
   ]
  },
  {
   "cell_type": "markdown",
   "metadata": {},
   "source": [
    "## 6. Inference: Generating Synthetic Samples\n",
    "\n",
    "With the trained network, we use the `TimeGradPredictor` to generate new time-series samples through the reverse diffusion process."
   ]
  },
  {
   "cell_type": "code",
   "execution_count": null,
   "metadata": {},
   "outputs": [
    {
     "name": "stdout",
     "output_type": "stream",
     "text": [
      "Generating synthetic samples...\n",
      "Generated samples shape: torch.Size([100, 24])\n"
     ]
    }
   ],
   "source": [
    "# Create predictor\n",
    "print(\"🔮 Creating TimeGrad Predictor...\")\n",
    "\n",
    "prediction_network = TimeGradPredictionNetwork(\n",
    "    config=TimeGradConfig(\n",
    "        input_size=estimator_config.input_size,\n",
    "        num_layers=estimator_config.num_layers,\n",
    "        num_cells=estimator_config.num_cells,\n",
    "        cell_type=estimator_config.cell_type,\n",
    "        history_length=estimator.history_length,\n",
    "        context_length=estimator.context_length,\n",
    "        prediction_length=estimator_config.prediction_length,\n",
    "        dropout_rate=estimator_config.dropout_rate,\n",
    "        lags_seq=estimator.lags_seq,\n",
    "        target_dim=estimator_config.target_dim,\n",
    "        conditioning_length=estimator_config.conditioning_length,\n",
    "        diff_steps=estimator_config.diff_steps,\n",
    "        loss_type=estimator_config.loss_type,\n",
    "        beta_end=estimator_config.beta_end,\n",
    "        beta_schedule=estimator_config.beta_schedule,\n",
    "        residual_layers=estimator_config.residual_layers,\n",
    "        residual_channels=estimator_config.residual_channels,\n",
    "        dilation_cycle_length=estimator_config.dilation_cycle_length,\n",
    "        cardinality=estimator_config.cardinality,\n",
    "        embedding_dimension=estimator_config.embedding_dimension,\n",
    "        scaling=estimator_config.scaling,\n",
    "    ),\n",
    "    num_parallel_samples=50\n",
    ").to(device)\n",
    "\n",
    "# Copy trained weights\n",
    "prediction_network.load_state_dict(training_network.state_dict())\n",
    "predictor = TimeGradPredictor(prediction_network)\n",
    "print(\"✅ Predictor created and weights loaded!\")"
   ]
  },
  {
   "cell_type": "code",
   "execution_count": null,
   "metadata": {},
   "outputs": [],
   "source": [
    "# Generate predictions\n",
    "print(\"🎯 Generating TimeGrad forecasts...\")\n",
    "num_samples = 100\n",
    "\n",
    "with torch.no_grad():\n",
    "    samples = predictor.predict_simple(\n",
    "        context_length=data_config.prediction_length,\n",
    "        num_samples=num_samples,\n",
    "        device=str(device)\n",
    "    )\n",
    "\n",
    "print(f\"✅ Generated {samples.shape[0]} forecast samples of length {samples.shape[1]}\")\n",
    "\n",
    "# Denormalize predictions\n",
    "samples_denorm = denormalize_data(samples, data_mean, data_std)\n",
    "print(\"✅ Predictions denormalized to original scale\")"
   ]
  },
  {
   "cell_type": "code",
   "execution_count": null,
   "metadata": {},
   "outputs": [],
   "source": [
    "# Calculate prediction statistics\n",
    "forecast_mean = samples_denorm.mean(dim=0).detach().cpu().numpy()\n",
    "forecast_median = samples_denorm.median(dim=0)[0].detach().cpu().numpy()\n",
    "forecast_std = samples_denorm.std(dim=0).detach().cpu().numpy()\n",
    "forecast_q25 = samples_denorm.quantile(0.25, dim=0).detach().cpu().numpy()\n",
    "forecast_q75 = samples_denorm.quantile(0.75, dim=0).detach().cpu().numpy()\n",
    "forecast_q05 = samples_denorm.quantile(0.05, dim=0).detach().cpu().numpy()\n",
    "forecast_q95 = samples_denorm.quantile(0.95, dim=0).detach().cpu().numpy()\n",
    "\n",
    "print(\"📊 Forecast Statistics:\")\n",
    "print(f\"  • Mean forecast: ${forecast_mean.mean():.2f}\")\n",
    "print(f\"  • Forecast std: ${forecast_std.mean():.2f}\")\n",
    "print(f\"  • Min forecast: ${samples_denorm.min():.2f}\")\n",
    "print(f\"  • Max forecast: ${samples_denorm.max():.2f}\")"
   ]
  },
  {
   "cell_type": "markdown",
   "metadata": {},
   "source": [
    "## 7. Visualization and Analysis\n",
    "\n",
    "Finally, we visualize the results. We denormalize the generated samples and plot them against the original data to qualitatively assess the model's performance."
   ]
  },
  {
   "cell_type": "code",
   "execution_count": null,
   "metadata": {},
   "outputs": [
    {
     "name": "stdout",
     "output_type": "stream",
     "text": [
      "Creating forecast visualization...\n",
      "Target data range: 107690.4140625 109478.2578125\n",
      "Original forecast samples range: -1551248.1 1481235.9\n",
      "Clipped forecast samples range: 34878.82 136192.02\n",
      "Target plot range std: 347.88529714945355\n",
      "Clipped forecast samples std: 48909.63\n",
      "Clipped Quantile 10.0%: 34878.8203125 34878.8203125\n",
      "Clipped Quantile 50.0%: 34878.8203125 136192.015625\n",
      "Clipped Quantile 90.0%: 136192.015625 136192.015625\n"
     ]
    },
    {
     "data": {
      "image/png": "[encoded data removed]",
      "text/plain": [
       "<Figure size 1500x700 with 1 Axes>"
      ]
     },
     "metadata": {},
     "output_type": "display_data"
    },
    {
     "name": "stdout",
     "output_type": "stream",
     "text": [
      "\n",
      "=== Results Summary ===\n",
      "Real data      - Mean: 108832.42, Std: 332.83\n",
      "Median forecast - Mean: 69594.89, Std: 50978.24\n"
     ]
    }
   ],
   "source": [
    "# Create comprehensive visualization\n",
    "fig, axes = plt.subplots(2, 2, figsize=(20, 12))\n",
    "\n",
    "# Plot 1: Historical data and forecasts\n",
    "ax1 = axes[0, 0]\n",
    "recent_data = df['close'][-100:]\n",
    "historical_range = range(len(recent_data))\n",
    "forecast_start = len(recent_data)\n",
    "forecast_range = range(forecast_start, forecast_start + data_config.prediction_length)\n",
    "\n",
    "# Plot historical data\n",
    "ax1.plot(historical_range, recent_data.values, 'b-', linewidth=2, label='Historical Data')\n",
    "\n",
    "# Plot forecast samples (subset for clarity)\n",
    "sample_subset = samples_denorm[:20].detach().cpu().numpy()\n",
    "for i, sample in enumerate(sample_subset):\n",
    "    alpha = 0.1\n",
    "    color = 'red' if i == 0 else 'red'\n",
    "    label = 'Forecast Samples' if i == 0 else '_nolegend_'\n",
    "    ax1.plot(forecast_range, sample, color=color, alpha=alpha, linewidth=1, label=label)\n",
    "\n",
    "# Plot forecast statistics\n",
    "ax1.plot(forecast_range, forecast_mean, 'r-', linewidth=3, label='Forecast Mean')\n",
    "ax1.fill_between(forecast_range, forecast_q25, forecast_q75, \n",
    "                 alpha=0.3, color='orange', label='25-75% Quantiles')\n",
    "ax1.fill_between(forecast_range, forecast_q05, forecast_q95, \n",
    "                 alpha=0.2, color='yellow', label='5-95% Quantiles')\n",
    "\n",
    "ax1.axvline(x=forecast_start-1, color='gray', linestyle='--', alpha=0.7, label='Forecast Start')\n",
    "ax1.set_title('S&P 500: Historical Data and TimeGrad Forecasts', fontsize=14, fontweight='bold')\n",
    "ax1.set_xlabel('Time Steps')\n",
    "ax1.set_ylabel('Price ($)')\n",
    "ax1.legend()\n",
    "ax1.grid(True, alpha=0.3)\n",
    "\n",
    "# Plot 2: Forecast distribution\n",
    "ax2 = axes[0, 1]\n",
    "forecast_samples_flat = samples_denorm.flatten().detach().cpu().numpy()\n",
    "ax2.hist(forecast_samples_flat, bins=50, density=True, alpha=0.7, color='skyblue', edgecolor='black')\n",
    "ax2.axvline(forecast_mean.mean(), color='red', linestyle='--', linewidth=2, label=f'Mean: ${forecast_mean.mean():.2f}')\n",
    "ax2.axvline(forecast_median.mean(), color='green', linestyle='--', linewidth=2, label=f'Median: ${forecast_median.mean():.2f}')\n",
    "ax2.set_title('Forecast Distribution', fontsize=14, fontweight='bold')\n",
    "ax2.set_xlabel('Price ($)')\n",
    "ax2.set_ylabel('Density')\n",
    "ax2.legend()\n",
    "ax2.grid(True, alpha=0.3)\n",
    "\n",
    "# Plot 3: Uncertainty over time\n",
    "ax3 = axes[1, 0]\n",
    "forecast_steps = range(1, data_config.prediction_length + 1)\n",
    "ax3.plot(forecast_steps, forecast_std, 'purple', linewidth=2, marker='o')\n",
    "ax3.set_title('Forecast Uncertainty Over Time', fontsize=14, fontweight='bold')\n",
    "ax3.set_xlabel('Forecast Step')\n",
    "ax3.set_ylabel('Standard Deviation ($)')\n",
    "ax3.grid(True, alpha=0.3)\n",
    "\n",
    "# Plot 4: Sample trajectories\n",
    "ax4 = axes[1, 1]\n",
    "sample_subset = samples_denorm[:10].detach().cpu().numpy()\n",
    "for i, sample in enumerate(sample_subset):\n",
    "    ax4.plot(forecast_steps, sample, alpha=0.6, linewidth=2, label=f'Sample {i+1}')\n",
    "ax4.plot(forecast_steps, forecast_mean, 'black', linewidth=3, linestyle='--', label='Mean')\n",
    "ax4.set_title('Individual Forecast Trajectories', fontsize=14, fontweight='bold')\n",
    "ax4.set_xlabel('Forecast Step')\n",
    "ax4.set_ylabel('Price ($)')\n",
    "ax4.legend(bbox_to_anchor=(1.05, 1), loc='upper left')\n",
    "ax4.grid(True, alpha=0.3)\n",
    "\n",
    "plt.tight_layout()\n",
    "plt.show()"
   ]
  },
  {
   "cell_type": "code",
   "execution_count": null,
   "metadata": {},
   "outputs": [],
   "source": [
    "# Interactive forecast plot with confidence intervals\n",
    "plt.figure(figsize=(16, 8))\n",
    "\n",
    "# Recent historical data (last 60 days)\n",
    "recent_data = df['close'][-60:]\n",
    "historical_range = range(len(recent_data))\n",
    "\n",
    "# Plot historical data\n",
    "plt.plot(historical_range, recent_data.values, 'b-', linewidth=2.5, label='Historical S&P 500', alpha=0.8)\n",
    "\n",
    "# Forecast range\n",
    "forecast_start = len(recent_data)\n",
    "forecast_range = range(forecast_start, forecast_start + data_config.prediction_length)\n",
    "\n",
    "# Plot confidence intervals\n",
    "plt.fill_between(forecast_range, forecast_q05, forecast_q95, \n",
    "                 alpha=0.2, color='lightcoral', label='90% Confidence Interval')\n",
    "plt.fill_between(forecast_range, forecast_q25, forecast_q75, \n",
    "                 alpha=0.4, color='coral', label='50% Confidence Interval')\n",
    "\n",
    "# Plot central tendency\n",
    "plt.plot(forecast_range, forecast_mean, 'r-', linewidth=3, label='Mean Forecast')\n",
    "plt.plot(forecast_range, forecast_median, 'orange', linewidth=2, linestyle='--', label='Median Forecast')\n",
    "\n",
    "# Add vertical line at forecast start\n",
    "plt.axvline(x=forecast_start-1, color='gray', linestyle=':', linewidth=2, alpha=0.8, label='Forecast Start')\n",
    "\n",
    "# Formatting\n",
    "plt.title('TimeGrad S&P 500 Forecasting Results', fontsize=18, fontweight='bold', pad=20)\n",
    "plt.xlabel('Time Steps', fontsize=14)\n",
    "plt.ylabel('Price ($)', fontsize=14)\n",
    "plt.legend(fontsize=12, loc='upper left')\n",
    "plt.grid(True, alpha=0.3)\n",
    "\n",
    "# Add text annotations\n",
    "recent_price = recent_data.iloc[-1]\n",
    "mean_forecast_final = forecast_mean[-1]\n",
    "plt.annotate(f'Current: ${recent_price:.2f}', \n",
    "             xy=(len(recent_data)-1, recent_price), \n",
    "             xytext=(len(recent_data)-10, recent_price+50),\n",
    "             fontsize=12, fontweight='bold',\n",
    "             arrowprops=dict(arrowstyle='->', color='blue', alpha=0.7))\n",
    "\n",
    "plt.annotate(f'Forecast: ${mean_forecast_final:.2f}', \n",
    "             xy=(forecast_range[-1], mean_forecast_final), \n",
    "             xytext=(forecast_range[-1]-3, mean_forecast_final+50),\n",
    "             fontsize=12, fontweight='bold',\n",
    "             arrowprops=dict(arrowstyle='->', color='red', alpha=0.7))\n",
    "\n",
    "plt.tight_layout()\n",
    "plt.show()"
   ]
  },
  {
   "cell_type": "markdown",
   "metadata": {},
   "source": [
    "## Result Analysis"
   ]
  },
  {
   "cell_type": "code",
   "execution_count": null,
   "metadata": {},
   "outputs": [],
   "source": [
    "# Comprehensive results analysis\n",
    "print(\"=\"*60)\n",
    "print(\"📈 TIMEGRAD S&P500 FORECASTING RESULTS\")\n",
    "print(\"=\"*60)\n",
    "\n",
    "print(f\"\\n🔍 Dataset Information:\")\n",
    "print(f\"  • Data period: {df.index[0].strftime('%Y-%m-%d')} to {df.index[-1].strftime('%Y-%m-%d')}\")\n",
    "print(f\"  • Total data points: {len(df):,}\")\n",
    "print(f\"  • Training period: {data_config.context_length} days context\")\n",
    "print(f\"  • Forecast horizon: {data_config.prediction_length} days\")\n",
    "\n",
    "print(f\"\\n🎯 Model Configuration:\")\n",
    "print(f\"  • Architecture: TimeGrad with {estimator_config.num_layers}-layer {estimator_config.cell_type}\")\n",
    "print(f\"  • Hidden units: {estimator_config.num_cells}\")\n",
    "print(f\"  • Diffusion steps: {estimator_config.diff_steps}\")\n",
    "print(f\"  • Residual layers: {estimator_config.residual_layers}\")\n",
    "print(f\"  • Training epochs: {estimator_config.epochs}\")\n",
    "\n",
    "print(f\"\\n📊 Training Results:\")\n",
    "print(f\"  • Initial loss: {losses[0]:.4f}\")\n",
    "print(f\"  • Final loss: {losses[-1]:.4f}\")\n",
    "print(f\"  • Loss reduction: {((losses[-1]-losses[0])/losses[0]*100):+.1f}%\")\n",
    "print(f\"  • Training time: ~{estimator_config.epochs} epochs\")\n",
    "\n",
    "print(f\"\\n🔮 Forecast Results:\")\n",
    "print(f\"  • Forecast samples generated: {num_samples}\")\n",
    "print(f\"  • Current S&P 500 price: ${recent_data.iloc[-1]:.2f}\")\n",
    "print(f\"  • Mean forecast (10-day): ${forecast_mean.mean():.2f}\")\n",
    "print(f\"  • Forecast uncertainty (std): ${forecast_std.mean():.2f}\")\n",
    "print(f\"  • Price range (5%-95%): ${forecast_q05.mean():.2f} - ${forecast_q95.mean():.2f}\")\n",
    "\n",
    "# Calculate some interesting metrics\n",
    "current_price = recent_data.iloc[-1]\n",
    "forecast_change = (forecast_mean.mean() - current_price) / current_price * 100\n",
    "forecast_volatility = forecast_std.mean() / current_price * 100\n",
    "\n",
    "print(f\"\\n📈 Key Insights:\")\n",
    "print(f\"  • Expected price change: {forecast_change:+.2f}%\")\n",
    "print(f\"  • Forecast volatility: {forecast_volatility:.2f}%\")\n",
    "print(f\"  • Trend direction: {'📈 Bullish' if forecast_change > 0 else '📉 Bearish'}\")\n",
    "\n",
    "# Risk metrics\n",
    "max_drawdown = (forecast_q05.min() - current_price) / current_price * 100\n",
    "max_upside = (forecast_q95.max() - current_price) / current_price * 100\n",
    "\n",
    "print(f\"  • Maximum downside risk (5% quantile): {max_drawdown:.2f}%\")\n",
    "print(f\"  • Maximum upside potential (95% quantile): {max_upside:.2f}%\")\n",
    "\n",
    "print(f\"\\n⚠️  Disclaimer:\")\n",
    "print(f\"  This is a demonstration of TimeGrad diffusion models for educational purposes.\")\n",
    "print(f\"  Results should not be used for actual trading or investment decisions.\")\n",
    "print(f\"  Financial markets are inherently unpredictable and past performance\")\n",
    "print(f\"  does not guarantee future results.\")"
   ]
  },
  {
   "cell_type": "code",
   "execution_count": null,
   "metadata": {},
   "outputs": [],
   "source": [
    "# Save results for future use\n",
    "results_dict = {\n",
    "    'config': estimator_config,\n",
    "    'training_losses': losses,\n",
    "    'forecast_mean': forecast_mean,\n",
    "    'forecast_std': forecast_std,\n",
    "    'forecast_quantiles': {\n",
    "        'q05': forecast_q05,\n",
    "        'q25': forecast_q25,\n",
    "        'q50': forecast_median,\n",
    "        'q75': forecast_q75,\n",
    "        'q95': forecast_q95,\n",
    "    },\n",
    "    'data_stats': {\n",
    "        'mean': data_mean,\n",
    "        'std': data_std,\n",
    "        'current_price': current_price,\n",
    "    }\n",
    "}\n",
    "\n",
    "# Optional: Save to file\n",
    "# import pickle\n",
    "# with open('timegrad_results.pkl', 'wb') as f:\n",
    "#     pickle.dump(results_dict, f)\n",
    "\n",
    "print(\"✅ Analysis complete! Results saved to memory.\")\n",
    "print(\"\\n🎉 TimeGrad S&P500 forecasting experiment finished successfully!\")"
   ]
  }
 ],
 "metadata": {
  "kernelspec": {
   "display_name": "condatest",
   "language": "python",
   "name": "python3"
  },
  "language_info": {
   "codemirror_mode": {
    "name": "ipython",
    "version": 3
   },
   "file_extension": ".py",
   "mimetype": "text/x-python",
   "name": "python",
   "nbconvert_exporter": "python",
   "pygments_lexer": "ipython3",
   "version": "3.9.23"
  }
 },
 "nbformat": 4,
 "nbformat_minor": 4
}
