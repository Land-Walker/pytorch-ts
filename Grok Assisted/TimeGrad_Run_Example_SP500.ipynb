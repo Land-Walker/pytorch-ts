{
 "cells": [
  {
   "cell_type": "markdown",
   "metadata": {},
   "source": [
    "# TimeGrad: Training and Inference on S&P500 Data\n",
    "\n",
    "This notebook demonstrates how to run the TimeGrad model on S&P500 time-series data. It covers:\n",
    "\n",
    "1.  **Data Fetching**: Downloading S&P500 data using `yfinance`.\n",
    "2.  **Data Preparation**: Normalizing and converting data into a GluonTS-compatible format.\n",
    "3.  **Model Training**: Training the TimeGrad model using a simplified Dataloader.\n",
    "4.  **Inference**: Generating synthetic time-series samples using the trained model.\n",
    "5.  **Visualization**: Comparing the synthetic data with the real data."
   ]
  },
  {
   "cell_type": "code",
   "execution_count": 2,
   "metadata": {},
   "outputs": [
    {
     "name": "stdout",
     "output_type": "stream",
     "text": [
      "Imports successful and path is set up.\n"
     ]
    },
    {
     "name": "stderr",
     "output_type": "stream",
     "text": [
      "/opt/conda/envs/condatest/lib/python3.9/site-packages/gluonts/json.py:102: UserWarning: Using `json`-module for json-handling. Consider installing one of `orjson`, `ujson` to speed up serialization and deserialization.\n",
      "  warnings.warn(\n"
     ]
    }
   ],
   "source": [
    "import sys\n",
    "import os\n",
    "from typing import List\n",
    "import torch\n",
    "import matplotlib.pyplot as plt\n",
    "import numpy as np\n",
    "\n",
    "# Add the project's root directory to the Python path.\n",
    "# This allows us to import our custom modules like `data_fetch` and `src.pts`.\n",
    "module_path = os.path.abspath(os.getcwd()) # Assumes notebook is in 'Grok Assisted' directory\n",
    "if module_path not in sys.path:\n",
    "    sys.path.insert(0, module_path)\n",
    "\n",
    "from gluonts.dataset.split import split\n",
    "\n",
    "# Import from the modules directly\n",
    "from src.pts.model.time_grad.diffusion import Diffusion, DiffusionConfig\n",
    "from src.pts.model.time_grad.time_grad_network import TimeGradNetwork, NetworkConfig\n",
    "from src.pts.model.time_grad.time_grad_estimator import TimeGradEstimator, EstimatorConfig\n",
    "from src.pts.model.time_grad.time_grad_predictor import TimeGradPredictor\n",
    "from src.pts.trainer import Trainer\n",
    "from data_fetch import fetch_sp500_data, prepare_gluonts_dataset, DataConfig\n",
    "\n",
    "print(\"Imports successful and path is set up.\")"
   ]
  },
  {
   "cell_type": "markdown",
   "metadata": {},
   "source": [
    "## 1. Configuration\n",
    "\n",
    "We define all the configurations for data, network, diffusion, and the estimator in one place."
   ]
  },
  {
   "cell_type": "code",
   "execution_count": 19,
   "metadata": {},
   "outputs": [
    {
     "name": "stdout",
     "output_type": "stream",
     "text": [
      "Configurations loaded.\n"
     ]
    }
   ],
   "source": [
    "# Data Configuration\n",
    "# Use daily data ('1d') to fetch the full history from 2010.\n",
    "# yfinance limits hourly ('1h') data to the last ~2 years.\n",
    "data_config = DataConfig(\n",
    "    symbol= 'BTC-USD',\n",
    "    start_date='2020-01-01', \n",
    "    interval='1d',\n",
    "    context_length=24, \n",
    "    prediction_length=24\n",
    ")\n",
    "\n",
    "# Network configuration\n",
    "net_config = NetworkConfig(input_dim=1, hidden_dim=40, num_layers=2)\n",
    "\n",
    "# Diffusion process configuration\n",
    "diff_config = DiffusionConfig(num_steps=100, beta_start=1e-4, beta_end=0.1)\n",
    "\n",
    "# Estimator/Training configuration\n",
    "est_config = EstimatorConfig(learning_rate=1e-3, batch_size=64)\n",
    "\n",
    "print(\"Configurations loaded.\")"
   ]
  },
  {
   "cell_type": "markdown",
   "metadata": {},
   "source": [
    "## 2. Data Fetching and Preparation\n",
    "\n",
    "We fetch the S&P 500 data, normalize it, and prepare it as a GluonTS dataset."
   ]
  },
  {
   "cell_type": "code",
   "execution_count": 22,
   "metadata": {},
   "outputs": [
    {
     "name": "stderr",
     "output_type": "stream",
     "text": [
      "[*********************100%***********************]  1 of 1 completed"
     ]
    },
    {
     "name": "stdout",
     "output_type": "stream",
     "text": [
      "Fetching data...\n",
      "Fetched 2069 data points\n",
      "Data normalized - Mean: 43869.58, Std: 28988.19\n",
      "Dataset prepared successfully\n"
     ]
    },
    {
     "name": "stderr",
     "output_type": "stream",
     "text": [
      "\n"
     ]
    }
   ],
   "source": [
    "try:\n",
    "    print(\"Fetching data...\")\n",
    "    # Fetch data\n",
    "    df = fetch_sp500_data(data_config)\n",
    "    print(f\"Fetched {len(df)} data points\")\n",
    "\n",
    "    # Simple normalization\n",
    "    data_mean = df['close'].mean()\n",
    "    data_std = df['close'].std()\n",
    "    df_normalized = df.copy()\n",
    "    df_normalized['close'] = (df['close'] - data_mean) / data_std\n",
    "    print(f\"Data normalized - Mean: {data_mean:.2f}, Std: {data_std:.2f}\")\n",
    "\n",
    "    # Create dataset\n",
    "    dataset = prepare_gluonts_dataset(df_normalized, data_config)\n",
    "    print(\"Dataset prepared successfully\")\n",
    "except Exception as e:\n",
    "    print(f\"An error occurred during data fetching/preparation: {e}\")"
   ]
  },
  {
   "cell_type": "markdown",
   "metadata": {},
   "source": [
    "## 3. Data Splitting and Dataloader\n",
    "\n",
    "The data is split into training and test sets. We then use a simple, custom data loader for training. This loader yields batches with the target data and initial hidden states for the RNN."
   ]
  },
  {
   "cell_type": "code",
   "execution_count": 23,
   "metadata": {},
   "outputs": [
    {
     "name": "stdout",
     "output_type": "stream",
     "text": [
      "Training data: 1 series\n",
      "Dataloader created.\n"
     ]
    }
   ],
   "source": [
    "# Split data\n",
    "# We only need the training part from the split for this script.\n",
    "train_dataset, _ = split(dataset, offset=-data_config.prediction_length)\n",
    "train_data = list(train_dataset)\n",
    "        \n",
    "print(f\"Training data: {len(train_data)} series\")\n",
    "\n",
    "# Simple dataloader\n",
    "class SimpleLoader:\n",
    "    def __init__(self, ds, context_length, num_layers, hidden_dim):\n",
    "        self.ds = ds\n",
    "        self.context_length = context_length\n",
    "        self.num_layers = num_layers\n",
    "        self.hidden_dim = hidden_dim\n",
    "                \n",
    "    def __iter__(self):\n",
    "        for item in self.ds:\n",
    "            target_data = item['target']\n",
    "\n",
    "            # Create sliding windows over the entire training series\n",
    "            # to ensure the model sees all the data.\n",
    "            for i in range(len(target_data) - self.context_length + 1):\n",
    "                context_data = target_data[i : i + self.context_length]\n",
    "                target_tensor = torch.tensor(\n",
    "                    context_data.reshape(1, -1, 1), \n",
    "                    dtype=torch.float32\n",
    "                )\n",
    "\n",
    "                hidden = (\n",
    "                    torch.zeros(self.num_layers, 1, self.hidden_dim),\n",
    "                    torch.zeros(self.num_layers, 1, self.hidden_dim)\n",
    "                )\n",
    "\n",
    "                yield {\n",
    "                    'target': target_tensor,\n",
    "                    'hidden': hidden\n",
    "                }\n",
    "\n",
    "    def __len__(self):\n",
    "        # The length is the total number of windows we can create.\n",
    "        total_windows = 0\n",
    "        for item in self.ds:\n",
    "            total_windows += max(0, len(item['target']) - self.context_length + 1)\n",
    "        return total_windows\n",
    "\n",
    "train_loader = SimpleLoader(\n",
    "    train_data, \n",
    "    data_config.context_length, \n",
    "    net_config.num_layers, \n",
    "    net_config.hidden_dim\n",
    ")\n",
    "\n",
    "print(\"Dataloader created.\")"
   ]
  },
  {
   "cell_type": "markdown",
   "metadata": {},
   "source": [
    "## 4. Model Initialization\n",
    "\n",
    "We initialize the core components of TimeGrad: the diffusion process, the noise prediction network, the estimator (which handles the loss), and the trainer."
   ]
  },
  {
   "cell_type": "code",
   "execution_count": 24,
   "metadata": {},
   "outputs": [
    {
     "name": "stdout",
     "output_type": "stream",
     "text": [
      "Initializing models...\n",
      "Models initialized.\n"
     ]
    }
   ],
   "source": [
    "print(\"Initializing models...\")\n",
    "# Initialize models\n",
    "diffusion = Diffusion(diff_config)\n",
    "network = TimeGradNetwork(net_config)\n",
    "estimator = TimeGradEstimator(est_config, network, diffusion)\n",
    "trainer = Trainer(estimator, epochs=10)\n",
    "\n",
    "print(\"Models initialized.\")"
   ]
  },
  {
   "cell_type": "markdown",
   "metadata": {},
   "source": [
    "## 5. Training\n",
    "\n",
    "Now, we train the model. The progress bar will show the status for each epoch."
   ]
  },
  {
   "cell_type": "code",
   "execution_count": 25,
   "metadata": {},
   "outputs": [
    {
     "name": "stdout",
     "output_type": "stream",
     "text": [
      "Starting training...\n"
     ]
    },
    {
     "name": "stderr",
     "output_type": "stream",
     "text": [
      "100%|██████████| 2022/2022 [00:04<00:00, 435.95it/s]\n"
     ]
    },
    {
     "name": "stdout",
     "output_type": "stream",
     "text": [
      "Epoch 0 loss: 1.0086181646638526\n"
     ]
    },
    {
     "name": "stderr",
     "output_type": "stream",
     "text": [
      "100%|██████████| 2022/2022 [00:04<00:00, 447.12it/s]\n"
     ]
    },
    {
     "name": "stdout",
     "output_type": "stream",
     "text": [
      "Epoch 1 loss: 0.9873814896176524\n"
     ]
    },
    {
     "name": "stderr",
     "output_type": "stream",
     "text": [
      "100%|██████████| 2022/2022 [00:04<00:00, 466.61it/s]\n"
     ]
    },
    {
     "name": "stdout",
     "output_type": "stream",
     "text": [
      "Epoch 2 loss: 0.9998754181122568\n"
     ]
    },
    {
     "name": "stderr",
     "output_type": "stream",
     "text": [
      "100%|██████████| 2022/2022 [00:04<00:00, 437.38it/s]\n"
     ]
    },
    {
     "name": "stdout",
     "output_type": "stream",
     "text": [
      "Epoch 3 loss: 0.9999681466160495\n"
     ]
    },
    {
     "name": "stderr",
     "output_type": "stream",
     "text": [
      "100%|██████████| 2022/2022 [00:05<00:00, 393.49it/s]\n"
     ]
    },
    {
     "name": "stdout",
     "output_type": "stream",
     "text": [
      "Epoch 4 loss: 1.0024273864165847\n"
     ]
    },
    {
     "name": "stderr",
     "output_type": "stream",
     "text": [
      "100%|██████████| 2022/2022 [00:05<00:00, 350.30it/s]\n"
     ]
    },
    {
     "name": "stdout",
     "output_type": "stream",
     "text": [
      "Epoch 5 loss: 1.0102299323893207\n"
     ]
    },
    {
     "name": "stderr",
     "output_type": "stream",
     "text": [
      "100%|██████████| 2022/2022 [00:04<00:00, 418.10it/s]\n"
     ]
    },
    {
     "name": "stdout",
     "output_type": "stream",
     "text": [
      "Epoch 6 loss: 1.001675745404144\n"
     ]
    },
    {
     "name": "stderr",
     "output_type": "stream",
     "text": [
      "100%|██████████| 2022/2022 [00:08<00:00, 252.13it/s]\n"
     ]
    },
    {
     "name": "stdout",
     "output_type": "stream",
     "text": [
      "Epoch 7 loss: 0.9941880019228725\n"
     ]
    },
    {
     "name": "stderr",
     "output_type": "stream",
     "text": [
      "100%|██████████| 2022/2022 [00:05<00:00, 372.64it/s]\n"
     ]
    },
    {
     "name": "stdout",
     "output_type": "stream",
     "text": [
      "Epoch 8 loss: 0.9883568576665118\n"
     ]
    },
    {
     "name": "stderr",
     "output_type": "stream",
     "text": [
      "100%|██████████| 2022/2022 [00:06<00:00, 326.98it/s]"
     ]
    },
    {
     "name": "stdout",
     "output_type": "stream",
     "text": [
      "Epoch 9 loss: 1.0048582453195938\n",
      "Training completed. Final loss: 1.0049\n"
     ]
    },
    {
     "name": "stderr",
     "output_type": "stream",
     "text": [
      "\n"
     ]
    }
   ],
   "source": [
    "print(\"Starting training...\")\n",
    "losses = trainer.train(train_loader)\n",
    "print(f\"Training completed. Final loss: {losses[-1]:.4f}\")"
   ]
  },
  {
   "cell_type": "markdown",
   "metadata": {},
   "source": [
    "## 6. Inference: Generating Synthetic Samples\n",
    "\n",
    "With the trained network, we use the `TimeGradPredictor` to generate new time-series samples through the reverse diffusion process."
   ]
  },
  {
   "cell_type": "code",
   "execution_count": 13,
   "metadata": {},
   "outputs": [
    {
     "name": "stdout",
     "output_type": "stream",
     "text": [
      "Generating synthetic samples...\n",
      "Generated samples shape: torch.Size([100, 24])\n"
     ]
    }
   ],
   "source": [
    "print(\"Generating synthetic samples...\")\n",
    "# Generate samples\n",
    "predictor = TimeGradPredictor(network, diffusion)\n",
    "samples = predictor.predict(\n",
    "    context_length=data_config.prediction_length, \n",
    "    num_samples=100\n",
    ")\n",
    "print(f\"Generated samples shape: {samples.shape}\")"
   ]
  },
  {
   "cell_type": "markdown",
   "metadata": {},
   "source": [
    "## 7. Visualization and Analysis\n",
    "\n",
    "Finally, we visualize the results. We denormalize the generated samples and plot them against the original data to qualitatively assess the model's performance."
   ]
  },
  {
   "cell_type": "code",
   "execution_count": 17,
   "metadata": {},
   "outputs": [
    {
     "name": "stdout",
     "output_type": "stream",
     "text": [
      "Creating forecast visualization...\n"
     ]
    },
    {
     "data": {
      "image/png": "[encoded data removed]",
      "text/plain": [
       "<Figure size 1500x700 with 1 Axes>"
      ]
     },
     "metadata": {},
     "output_type": "display_data"
    },
    {
     "name": "stdout",
     "output_type": "stream",
     "text": [
      "\n",
      "=== Results Summary ===\n",
      "Real data      - Mean: 6402.55, Std: 65.40\n",
      "Median forecast - Mean: 3460.45, Std: 2783.83\n"
     ]
    }
   ],
   "source": [
    "import pandas as pd\n",
    "\n",
    "# Helper class to mimic GluonTS/PyTorchTS Forecast object\n",
    "def plot_forecast(\n",
    "    target: pd.Series,\n",
    "    forecast: SimpleForecast,\n",
    "    prediction_length: int,\n",
    "    prediction_intervals: tuple = (50.0, 90.0),\n",
    "    color: str = \"g\",\n",
    "):\n",
    "    \"\"\"\n",
    "    Plots a univariate time series forecast against the target data.\n",
    "\n",
    "    This is an adaptation of a more general plotting utility to fit the\n",
    "    univariate case of this notebook. It shows the median forecast and\n",
    "    prediction intervals.\n",
    "    \"\"\"\n",
    "    print(\"Creating forecast visualization...\")\n",
    "    # Dynamically adjust plot width based on the number of observations\n",
    "    dynamic_width = max(15, prediction_length / 4)\n",
    "    plt.figure(figsize=(dynamic_width, 7))\n",
    "    ax = plt.gca()\n",
    "\n",
    "    # Plot the target data, showing some history before the forecast\n",
    "    # We plot the last 2 * prediction_length to give context\n",
    "    target_plot_range = target.iloc[-2 * prediction_length :]\n",
    "    target_plot_range.plot(ax=ax, label=\"Observations\", color=\"blue\")\n",
    "\n",
    "    # Define the percentiles to calculate for the prediction intervals\n",
    "    ps = [50.0] + [50.0 + f * c / 2.0 for c in prediction_intervals for f in [-1.0, 1.0]]\n",
    "    percentiles_sorted = sorted(set(ps))\n",
    "\n",
    "    def alpha_for_percentile(p):\n",
    "        return (p / 100.0) ** 0.3\n",
    "\n",
    "    # Get quantile data from the forecast object\n",
    "    ps_data = [forecast.quantile(p / 100.0) for p in percentiles_sorted]\n",
    "    i_p50 = len(percentiles_sorted) // 2\n",
    "\n",
    "    # Plot the median forecast\n",
    "    p50_data = ps_data[i_p50]\n",
    "    p50_series = pd.Series(data=p50_data, index=forecast.index)\n",
    "    p50_series.plot(color=color, ls=\"-\", label=\"Median Forecast\", ax=ax)\n",
    "\n",
    "    # Plot the prediction intervals as shaded areas\n",
    "    for i in range(len(percentiles_sorted) // 2):\n",
    "        ptile = percentiles_sorted[i]\n",
    "        alpha = alpha_for_percentile(ptile)\n",
    "        ax.fill_between(\n",
    "            forecast.index,\n",
    "            ps_data[i],\n",
    "            ps_data[-i - 1],\n",
    "            facecolor=color,\n",
    "            alpha=alpha,\n",
    "            interpolate=True,\n",
    "        )\n",
    "        # Use a hack to create labels for the prediction intervals in the legend\n",
    "        pd.Series(data=p50_data[:1], index=forecast.index[:1]).plot(\n",
    "            color=color, alpha=alpha, linewidth=10, label=f\"{100 - ptile * 2}% Interval\", ax=ax,\n",
    "        )\n",
    "\n",
    "    ax.legend(loc=\"upper left\")\n",
    "    plt.title(\"S&P500 Forecast vs. Real Data\")\n",
    "    plt.ylabel(\"Price\")\n",
    "    plt.xlabel(\"Date\")\n",
    "    plt.grid(which=\"both\")\n",
    "    plt.tight_layout()\n",
    "    plt.show()\n",
    "\n",
    "# --- Execution part ---\n",
    "\n",
    "# 1. Denormalize the generated samples\n",
    "# Note: `samples` comes from the predictor, `data_std` and `data_mean` from the normalization step.\n",
    "denormalized_samples = samples.detach().numpy() * data_std + data_mean\n",
    "\n",
    "# 2. Determine the forecast start date and frequency\n",
    "# The forecast starts right after the training data ends.\n",
    "forecast_start_date = df.index[-data_config.prediction_length]\n",
    "freq = 'h' if data_config.interval == '1h' else 'D'\n",
    "\n",
    "# 3. Create the forecast object\n",
    "forecast_obj = SimpleForecast(\n",
    "    samples=denormalized_samples,\n",
    "    start_date=forecast_start_date,\n",
    "    freq=freq\n",
    ")\n",
    "\n",
    "# 4. Plot the forecast\n",
    "# The `target` is the full historical data series.\n",
    "plot_forecast(\n",
    "    target=df['close'], \n",
    "    forecast=forecast_obj, \n",
    "    prediction_length=data_config.prediction_length,\n",
    "    color='r' # Use red for the forecast\n",
    ")\n",
    "\n",
    "# 5. Print statistics for comparison\n",
    "# FIX: Get original_data by slicing the dataframe directly.\n",
    "# This avoids the NameError with 'test_data'.\n",
    "original_data = df['close'][-data_config.prediction_length:].values\n",
    "\n",
    "# FIX: Define median_forecast before using it.\n",
    "median_forecast = forecast_obj.quantile(0.5)\n",
    "\n",
    "print(\"\\n=== Results Summary ===\")\n",
    "print(f\"Real data      - Mean: {np.mean(original_data):.2f}, Std: {np.std(original_data):.2f}\")\n",
    "print(f\"Median forecast - Mean: {np.mean(median_forecast):.2f}, Std: {np.std(median_forecast):.2f}\")\n"
   ]
  }
 ],
 "metadata": {
  "kernelspec": {
   "display_name": "condatest",
   "language": "python",
   "name": "python3"
  },
  "language_info": {
   "codemirror_mode": {
    "name": "ipython",
    "version": 3
   },
   "file_extension": ".py",
   "mimetype": "text/x-python",
   "name": "python",
   "nbconvert_exporter": "python",
   "pygments_lexer": "ipython3",
   "version": "3.9.23"
  }
 },
 "nbformat": 4,
 "nbformat_minor": 4
}
